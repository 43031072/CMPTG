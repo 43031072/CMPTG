{
  "nbformat": 4,
  "nbformat_minor": 0,
  "metadata": {
    "colab": {
      "provenance": [],
      "authorship_tag": "ABX9TyPKD2r5/fMzbX8eIpYTdf73",
      "include_colab_link": true
    },
    "kernelspec": {
      "name": "python3",
      "display_name": "Python 3"
    },
    "language_info": {
      "name": "python"
    }
  },
  "cells": [
    {
      "cell_type": "markdown",
      "metadata": {
        "id": "view-in-github",
        "colab_type": "text"
      },
      "source": [
        "<a href=\"https://colab.research.google.com/github/43031072/CMPTG/blob/main/Practical_Assessment_4_First_order_logic_based_Healthcare_chatbot.ipynb\" target=\"_parent\"><img src=\"https://colab.research.google.com/assets/colab-badge.svg\" alt=\"Open In Colab\"/></a>"
      ]
    },
    {
      "cell_type": "code",
      "execution_count": null,
      "metadata": {
        "colab": {
          "base_uri": "https://localhost:8080/"
        },
        "id": "aSTYuf7XxeVn",
        "outputId": "de43021f-5fd2-4288-e81f-9f9251454424"
      },
      "outputs": [
        {
          "output_type": "stream",
          "name": "stdout",
          "text": [
            "Welcome to HealthBot!\n",
            "Enter your symptoms (comma-separated by a comma , ): \n",
            "Symptoms: sneezing, runny nose, mild fever\n",
            "\n",
            "Based on your symptoms, you might have:\n",
            "\n",
            " Common_Cold\n",
            "  Advices:\n",
            "    - Hydrate and rest.\n",
            "    - Use nasal sprays.\n",
            "    - See a doctor if fever worsens.\n"
          ]
        }
      ],
      "source": [
        "# Knowledge base (disease : set of symptoms)\n",
        "knowledge_base = {\n",
        "    \"flu\": {\"fever\", \"cough\", \"sore_throat\"},\n",
        "    \"common_cold\": {\"sneezing\", \"runny_nose\", \"mild_fever\"},\n",
        "    \"malaria\": {\"fever\", \"chills\", \"sweating\", \"headache\"},\n",
        "    \"covid19\": {\"fever\", \"cough\", \"shortness_of_breath\", \"loss_of_taste\"},\n",
        "    \"strep_throat\": {\"sore_throat\", \"swollen_lymph_nodes\", \"fever\"}\n",
        "}\n",
        "\n",
        "# Advice base (disease : list of advice strings)\n",
        "advice_base = {\n",
        "    \"flu\": [\"Rest and hydrate.\", \"Take OTC fever meds.\", \"See a doctor if severe.\"],\n",
        "    \"common_cold\": [\"Hydrate and rest.\", \"Use nasal sprays.\", \"See a doctor if fever worsens.\"],\n",
        "    \"malaria\": [\"Seek medical help.\", \"Take prescribed drugs.\", \"Avoid mosquito bites.\"],\n",
        "    \"covid19\": [\"Get tested.\", \"Isolate and consult a doctor.\", \"Monitor symptoms.\"],\n",
        "    \"strep_throat\": [\"Get a throat swab.\", \"Take antibiotics.\", \"Rest and hydrate.\"]\n",
        "}\n",
        "\n",
        "# Function to get cleaned and normalized user input\n",
        "def get_user_symptom():\n",
        "    print(\"Welcome to HealthBot!\")\n",
        "    print(\"Enter your symptoms (comma-separated by a comma , ): \")\n",
        "    user_input = input(\"Symptoms: \").lower().strip()\n",
        "\n",
        "    # Normalize input: \"sore throat\" -> \"sore_throat\"\n",
        "    symptoms = [symptom.strip().replace(\" \", \"_\") for symptom in user_input.split(\",\")]\n",
        "    return symptoms\n",
        "\n",
        "# Function to infer possible diseases from symptoms\n",
        "def infer_disease(user_symptoms):\n",
        "    user_symptoms_set = set(user_symptoms)\n",
        "    possible_diseases = []\n",
        "\n",
        "    for disease, disease_symptoms in knowledge_base.items():\n",
        "        if disease_symptoms.issubset(user_symptoms_set):\n",
        "            possible_diseases.append(disease)\n",
        "\n",
        "    return possible_diseases\n",
        "\n",
        "# Chatbot runner\n",
        "def run_chatbot():\n",
        "    user_symptoms = get_user_symptom()\n",
        "    diseases = infer_disease(user_symptoms)\n",
        "\n",
        "    if diseases:\n",
        "        print(\"\\nBased on your symptoms, you might have:\")\n",
        "        for disease in diseases:\n",
        "            print(f\"\\n {disease.title()}\")\n",
        "            print(\"  Advices:\")\n",
        "            for advice in advice_base[disease]:\n",
        "                print(f\"    - {advice}\")\n",
        "    else:\n",
        "        print(\"\\nNo matching disease found.\")\n",
        "        print(\"Please consult a healthcare professional.\")\n",
        "\n",
        "# Start the chatbot\n",
        "run_chatbot()"
      ]
    }
  ]
}